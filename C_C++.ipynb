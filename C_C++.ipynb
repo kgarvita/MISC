{
  "nbformat": 4,
  "nbformat_minor": 0,
  "metadata": {
    "colab": {
      "provenance": [],
      "authorship_tag": "ABX9TyNQL8IRQnGu3C6lJFHpAozo",
      "include_colab_link": true
    },
    "kernelspec": {
      "name": "python3",
      "display_name": "Python 3"
    },
    "language_info": {
      "name": "python"
    }
  },
  "cells": [
    {
      "cell_type": "markdown",
      "metadata": {
        "id": "view-in-github",
        "colab_type": "text"
      },
      "source": [
        "<a href=\"https://colab.research.google.com/github/kgarvita/MISC/blob/main/C_C%2B%2B.ipynb\" target=\"_parent\"><img src=\"https://colab.research.google.com/assets/colab-badge.svg\" alt=\"Open In Colab\"/></a>"
      ]
    },
    {
      "cell_type": "code",
      "execution_count": 38,
      "metadata": {
        "colab": {
          "base_uri": "https://localhost:8080/"
        },
        "id": "XwppfeEI5I9h",
        "outputId": "36f8d9ea-4bce-4485-c99c-40f16c32c742"
      },
      "outputs": [
        {
          "output_type": "stream",
          "name": "stdout",
          "text": [
            "Overwriting add.h\n"
          ]
        }
      ],
      "source": [
        "%%writefile add.h\n",
        "int add(int,int);\n"
      ]
    },
    {
      "cell_type": "code",
      "source": [
        "%%writefile add.cpp\n",
        "int add(int x, int y)\n",
        "{\n",
        "  int result;\n",
        "  result = x + y;\n",
        "  return result;\n",
        "}"
      ],
      "metadata": {
        "colab": {
          "base_uri": "https://localhost:8080/"
        },
        "id": "m3YV6B6a52Pk",
        "outputId": "86d2b356-e4f5-4c7d-85dc-4a75c1828e77"
      },
      "execution_count": 39,
      "outputs": [
        {
          "output_type": "stream",
          "name": "stdout",
          "text": [
            "Overwriting add.cpp\n"
          ]
        }
      ]
    },
    {
      "cell_type": "code",
      "source": [
        "%%writefile main.cpp\n",
        "#include<iostream>\n",
        "#include \"add.h\"\n",
        "int main()\n",
        "{\n",
        "  int a = 10;\n",
        "  int b = 20;\n",
        "  int result;\n",
        "  result = add(a,b);\n",
        "  std::cout<<\"result = \"<<result<<std::endl;\n",
        "  return 0;\n",
        "}"
      ],
      "metadata": {
        "colab": {
          "base_uri": "https://localhost:8080/"
        },
        "id": "1_kaxPW46bpx",
        "outputId": "5cdd2775-7c86-4942-8c3c-4b2caab35835"
      },
      "execution_count": 40,
      "outputs": [
        {
          "output_type": "stream",
          "name": "stdout",
          "text": [
            "Overwriting main.cpp\n"
          ]
        }
      ]
    },
    {
      "cell_type": "code",
      "source": [
        "%%script bash\n",
        "g++ main.cpp add.cpp -std=c++11 -o test"
      ],
      "metadata": {
        "id": "zBE0KaIb7LRH"
      },
      "execution_count": 41,
      "outputs": []
    },
    {
      "cell_type": "code",
      "source": [
        "!./test"
      ],
      "metadata": {
        "colab": {
          "base_uri": "https://localhost:8080/"
        },
        "id": "UNjjDXbL61Mi",
        "outputId": "a12c38e5-dc0f-467f-f50c-1b3d128173be"
      },
      "execution_count": 42,
      "outputs": [
        {
          "output_type": "stream",
          "name": "stdout",
          "text": [
            "result = 30\n"
          ]
        }
      ]
    }
  ]
}