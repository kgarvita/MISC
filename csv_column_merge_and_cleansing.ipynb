{
  "nbformat": 4,
  "nbformat_minor": 0,
  "metadata": {
    "colab": {
      "provenance": [],
      "authorship_tag": "ABX9TyP3Dd81Yrpq1KNzFGQO4H5I",
      "include_colab_link": true
    },
    "kernelspec": {
      "name": "python3",
      "display_name": "Python 3"
    },
    "language_info": {
      "name": "python"
    }
  },
  "cells": [
    {
      "cell_type": "markdown",
      "metadata": {
        "id": "view-in-github",
        "colab_type": "text"
      },
      "source": [
        "<a href=\"https://colab.research.google.com/github/kgarvita/MISC/blob/main/csv_column_merge_and_cleansing.ipynb\" target=\"_parent\"><img src=\"https://colab.research.google.com/assets/colab-badge.svg\" alt=\"Open In Colab\"/></a>"
      ]
    },
    {
      "cell_type": "code",
      "source": [
        "import csv\n",
        "with open('/content/Sample_Data_Real_Incidents.csv',encoding='cp1252') as f:\n",
        "    reader = csv.reader(f)\n",
        "    with open('output.csv', 'w') as g:\n",
        "        writer = csv.writer(g)\n",
        "        for row in reader:\n",
        "            new_row =row[0:1]+[': '.join([row[1], row[2]])] + row[3:]\n",
        "            writer.writerow(new_row)"
      ],
      "metadata": {
        "id": "yTktfmjdtIVG"
      },
      "execution_count": 27,
      "outputs": []
    },
    {
      "cell_type": "code",
      "source": [
        "import gc\n",
        "import pandas as pd\n",
        "data = pd.read_csv('/content/output.csv',memory_map=True,encoding='cp1252')\n",
        "data.info()\n",
        "\n",
        "#Clean data - pick only desired columns and delete rest of the data\n",
        "#df = data[['Incident ID','Incident Description', 'Proposed Fix']]\n",
        "df = data[['Ticket#','Component: Subject', 'Description', 'Resolution']]\n",
        "del data\n",
        "gc.collect()\n",
        "\n",
        "#Clean data - drop all duplicates and empy lines from dataframe\n",
        "#df.dropna(inplace=True)\n",
        "#df.drop_duplicates(inplace=True)\n",
        "print(df.head(5))"
      ],
      "metadata": {
        "colab": {
          "base_uri": "https://localhost:8080/"
        },
        "id": "xMFwJw2spfaa",
        "outputId": "a2139f08-9cec-4065-f14b-6118d41b657d"
      },
      "execution_count": 28,
      "outputs": [
        {
          "output_type": "stream",
          "name": "stdout",
          "text": [
            "<class 'pandas.core.frame.DataFrame'>\n",
            "RangeIndex: 18 entries, 0 to 17\n",
            "Data columns (total 7 columns):\n",
            " #   Column              Non-Null Count  Dtype \n",
            "---  ------              --------------  ----- \n",
            " 0   Ticket#             17 non-null     object\n",
            " 1   Component: Subject  18 non-null     object\n",
            " 2   Description         17 non-null     object\n",
            " 3   Priority            17 non-null     object\n",
            " 4   State               17 non-null     object\n",
            " 5   Reported On         17 non-null     object\n",
            " 6   Resolution          15 non-null     object\n",
            "dtypes: object(7)\n",
            "memory usage: 1.1+ KB\n",
            "   Ticket#                                 Component: Subject  \\\n",
            "0  INC0001  SAP_ECC_BW: SAP on Linux Suse -vs- Oracle Linu...   \n",
            "1  INC0002                      SAP_ECC: Linux Redhat or SUSE   \n",
            "2  INC0003  SAP_LINUX: Oracle 10g R2 on Oracle Enterprise ...   \n",
            "3  INC0004                         SAP_ECC: Linux upgradation   \n",
            "4  INC0005                             SAP_LINUX: Upgrade SAP   \n",
            "\n",
            "                                         Description  \\\n",
            "0  We are planning on replatforming our ECC and B...   \n",
            "1  Could anyone tell me what are the diffences be...   \n",
            "2  Is Oracle Enterprise Linux 5.x supported as OS...   \n",
            "3  I installed ecc5.0 on Red Hat Linux AS 4 with ...   \n",
            "4  we are planning to upgrade OS suse from suse 1...   \n",
            "\n",
            "                                          Resolution  \n",
            "0  Iâ€™m referring to the aspect of FC where the ...  \n",
            "1  I am happy to provide some input and newer inf...  \n",
            "2  LINUX REDHAT EL5 is supported with oracle 10g ...  \n",
            "3                                                NaN  \n",
            "4  please refer to SUSE upgrade guide:\\n\\nhttps:/...  \n"
          ]
        }
      ]
    }
  ]
}