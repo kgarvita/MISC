{
  "cells": [
    {
      "cell_type": "markdown",
      "metadata": {
        "id": "view-in-github",
        "colab_type": "text"
      },
      "source": [
        "<a href=\"https://colab.research.google.com/github/kgarvita/MISC/blob/main/semantic_search.ipynb\" target=\"_parent\"><img src=\"https://colab.research.google.com/assets/colab-badge.svg\" alt=\"Open In Colab\"/></a>"
      ]
    },
    {
      "cell_type": "markdown",
      "source": [
        "#Install required packages"
      ],
      "metadata": {
        "id": "CMJnGXpHFgs-"
      }
    },
    {
      "cell_type": "markdown",
      "source": [
        "##Install Sentence Transformer"
      ],
      "metadata": {
        "id": "QKfeoOURFvQ3"
      }
    },
    {
      "cell_type": "code",
      "execution_count": null,
      "metadata": {
        "id": "v45sHzUq5sJ0"
      },
      "outputs": [],
      "source": [
        "!pip3 install -U sentence-transformers"
      ]
    },
    {
      "cell_type": "markdown",
      "source": [
        "##Install FAISS"
      ],
      "metadata": {
        "id": "mx3p-s8sF0YC"
      }
    },
    {
      "cell_type": "code",
      "execution_count": null,
      "metadata": {
        "id": "7x8CykmM6Tk5"
      },
      "outputs": [],
      "source": [
        "!pip install faiss-cpu --no-cache"
      ]
    },
    {
      "cell_type": "markdown",
      "source": [
        "#Import packages and download model"
      ],
      "metadata": {
        "id": "j7C99V61F416"
      }
    },
    {
      "cell_type": "code",
      "execution_count": null,
      "metadata": {
        "id": "P7Z7A5Tm-AY5"
      },
      "outputs": [],
      "source": [
        "import pandas as pd\n",
        "import time\n",
        "#from tqdm import tqdm\n",
        "#import seaborn as sns\n",
        "import numpy as np\n",
        "#from textblob import TextBlob\n",
        "#import matplotlib.pyplot as plt\n",
        "from sentence_transformers import SentenceTransformer\n",
        "import faiss\n",
        "model = SentenceTransformer('multi-qa-MiniLM-L6-cos-v1')\n",
        "#model = SentenceTransformer('multi-qa-distilbert-cos-v1')\n",
        "#model = SentenceTransformer('multi-qa-mpnet-base-dot-v1', cache_folder=\"content/Model\")"
      ]
    },
    {
      "cell_type": "markdown",
      "source": [
        "#Read CSV file"
      ],
      "metadata": {
        "id": "EJeQ3HlhGPGO"
      }
    },
    {
      "cell_type": "code",
      "execution_count": null,
      "metadata": {
        "id": "MU6uy81l-XJl"
      },
      "outputs": [],
      "source": [
        "data = pd.read_csv('/content/SAP_data.csv',memory_map=True)\n",
        "data.info()\n",
        "#data.head(5)"
      ]
    },
    {
      "cell_type": "markdown",
      "source": [
        "##Clean data"
      ],
      "metadata": {
        "id": "qsjLFdJCGUpC"
      }
    },
    {
      "cell_type": "code",
      "execution_count": null,
      "metadata": {
        "id": "WrJBd2xp-tDr"
      },
      "outputs": [],
      "source": [
        "import gc\n",
        "df = data[['Incident ID','Incident Description', 'Proposed Fix']]\n",
        "del data\n",
        "gc.collect()\n",
        "df.head(2)"
      ]
    },
    {
      "cell_type": "code",
      "execution_count": null,
      "metadata": {
        "id": "mFA2BStv_x1W"
      },
      "outputs": [],
      "source": [
        "df.dropna(inplace=True)\n",
        "df.drop_duplicates(inplace=True)"
      ]
    },
    {
      "cell_type": "markdown",
      "source": [
        "# Create vectors"
      ],
      "metadata": {
        "id": "6ioqm5udGXMJ"
      }
    },
    {
      "cell_type": "code",
      "execution_count": 36,
      "metadata": {
        "colab": {
          "base_uri": "https://localhost:8080/"
        },
        "id": "BztWkoZGAJVQ",
        "outputId": "093969ed-e741-478c-f106-f4e48ff17892"
      },
      "outputs": [
        {
          "output_type": "stream",
          "name": "stdout",
          "text": [
            "True\n"
          ]
        }
      ],
      "source": [
        "encoded_data = model.encode(df.values.tolist())\n",
        "#encoded_data = np.asarray(encoded_data.astype('float32'))\n",
        "index = faiss.IndexFlatL2(encoded_data.shape[1])\n",
        "index.add(encoded_data)\n",
        "print(index.is_trained)\n",
        "#index = faiss.IndexIDMap(faiss.IndexFlatIP(471))\n",
        "#index.add_with_ids(encoded_data, np.array(range(0, len(df))))\n",
        "faiss.write_index(index, 'fulldoc.index')\n",
        "index = faiss.read_index('fulldoc.index')\n"
      ]
    },
    {
      "cell_type": "markdown",
      "source": [
        "#Search functions"
      ],
      "metadata": {
        "id": "FI5WmO0mGa10"
      }
    },
    {
      "cell_type": "code",
      "execution_count": 30,
      "metadata": {
        "id": "9y3QSH8TAmdM"
      },
      "outputs": [],
      "source": [
        "def fetch_info(dataframe_idx):\n",
        "    info = df.iloc[dataframe_idx]\n",
        "    print(info)\n",
        "    meta_dict = {}\n",
        "    meta_dict['Incident Description'] = info['Incident Description']\n",
        "    return meta_dict\n",
        "\n",
        "def search(query, top_k, index, model):\n",
        "    t=time.time()\n",
        "    results = []\n",
        "    query_vector = model.encode([query])\n",
        "    #print(query_vector.shape)\n",
        "    top_k = index.search(query_vector, top_k)\n",
        "    #print(\"Type of return value of index.search\",type(top_k))\n",
        "    for top in top_k:\n",
        "      print(top)\n",
        "    #print('>>>> Results in Total Time: {}'.format(time.time()-t))\n",
        "    #If search result is not relevant\n",
        "    max_distance = 1.8\n",
        "    top_k_distance = top_k[0].tolist()[0]\n",
        "    for top in top_k_distance:\n",
        "      print(top)\n",
        "      if(top > max_distance):\n",
        "        results.append(\"No data found, please try to rephrase the question.\")\n",
        "        return results\n",
        "    top_k_ids = top_k[1].tolist()[0]\n",
        "    #print(type(top_k_ids))\n",
        "    for top in top_k_ids:\n",
        "      print(top)\n",
        "      print(\"\\n\")\n",
        "    top_k_ids = list(np.unique(top_k_ids))\n",
        "    results =  [fetch_info(idx) for idx in top_k_ids]\n",
        "    return results\n"
      ]
    },
    {
      "cell_type": "markdown",
      "source": [
        "#Start query loop"
      ],
      "metadata": {
        "id": "XFSIaXrgGdst"
      }
    },
    {
      "cell_type": "code",
      "execution_count": 31,
      "metadata": {
        "colab": {
          "base_uri": "https://localhost:8080/"
        },
        "id": "TIXWuInQ4Jls",
        "outputId": "b26614e5-24a4-4b06-c39a-c5d18e782c65"
      },
      "outputs": [
        {
          "output_type": "stream",
          "name": "stdout",
          "text": [
            "Please enter your query :\n",
            "Who am I?\n",
            "[[1.1784923 1.405608  1.407039 ]]\n",
            "[[2 3 0]]\n",
            "1.1784923076629639\n",
            "1.405608057975769\n",
            "1.4070390462875366\n",
            "2\n",
            "\n",
            "\n",
            "3\n",
            "\n",
            "\n",
            "0\n",
            "\n",
            "\n",
            "Incident ID                                           INC001\n",
            "Incident Description    I am not able to login to my system.\n",
            "Proposed Fix                                     Login page \n",
            "Name: 0, dtype: object\n",
            "Incident ID                           INC003\n",
            "Incident Description    What is my login ID?\n",
            "Proposed Fix                   login ID page\n",
            "Name: 2, dtype: object\n",
            "Incident ID                                    INC004\n",
            "Incident Description        How do I create new user?\n",
            "Proposed Fix            Create user/Subscription page\n",
            "Name: 3, dtype: object\n",
            "Query: Who am I?\n",
            "\t {'Incident Description': 'I am not able to login to my system.'}\n",
            "\t {'Incident Description': 'What is my login ID?'}\n",
            "\t {'Incident Description': 'How do I create new user?'}\n",
            "Please enter your query :\n",
            "What is the capital?\n",
            "[[1.7895775 1.7980099 1.8272619]]\n",
            "[[ 9  2 13]]\n",
            "1.7895774841308594\n",
            "1.7980098724365234\n",
            "1.8272619247436523\n",
            "Query: What is the capital?\n",
            "\t No data found, please try to rephrase the question.\n",
            "Please enter your query :\n",
            "London\n",
            "[[1.7272601 1.7652273 1.8081113]]\n",
            "[[ 9 13 14]]\n",
            "1.7272601127624512\n",
            "1.7652273178100586\n",
            "1.808111310005188\n",
            "Query: London\n",
            "\t No data found, please try to rephrase the question.\n",
            "Please enter your query :\n",
            "geography?\n",
            "[[1.3026506 1.8796012 1.8911166]]\n",
            "[[ 9 13  4]]\n",
            "1.3026505708694458\n",
            "1.879601240158081\n",
            "Query: geography?\n",
            "\t No data found, please try to rephrase the question.\n",
            "Please enter your query :\n",
            "what is my geographical location?\n",
            "[[1.2002785 1.668341  1.672333 ]]\n",
            "[[9 2 4]]\n",
            "1.2002785205841064\n",
            "1.668341040611267\n",
            "1.672333002090454\n",
            "9\n",
            "\n",
            "\n",
            "2\n",
            "\n",
            "\n",
            "4\n",
            "\n",
            "\n",
            "Incident ID                           INC003\n",
            "Incident Description    What is my login ID?\n",
            "Proposed Fix                   login ID page\n",
            "Name: 2, dtype: object\n",
            "Incident ID                                                        INC005\n",
            "Incident Description    Where can I check which email I used for subsc...\n",
            "Proposed Fix                                          Email settings page\n",
            "Name: 4, dtype: object\n",
            "Incident ID                                                        INC010\n",
            "Incident Description    Can same subscription work in different geogra...\n",
            "Proposed Fix                                            Supported regions\n",
            "Name: 9, dtype: object\n",
            "Query: what is my geographical location?\n",
            "\t {'Incident Description': 'What is my login ID?'}\n",
            "\t {'Incident Description': 'Where can I check which email I used for subscription'}\n",
            "\t {'Incident Description': 'Can same subscription work in different geographical locations?'}\n",
            "Please enter your query :\n",
            "where should I live?\n",
            "[[1.6120613 1.8437705 1.8454764]]\n",
            "[[9 4 5]]\n",
            "1.6120612621307373\n",
            "1.8437705039978027\n",
            "Query: where should I live?\n",
            "\t No data found, please try to rephrase the question.\n",
            "Please enter your query :\n",
            "will this application work on mac?\n",
            "[[1.3732036 1.4736576 1.4788432]]\n",
            "[[10  5 13]]\n",
            "1.3732036352157593\n",
            "1.4736576080322266\n",
            "1.4788432121276855\n",
            "10\n",
            "\n",
            "\n",
            "5\n",
            "\n",
            "\n",
            "13\n",
            "\n",
            "\n",
            "Incident ID                                               INC006\n",
            "Incident Description    How can I subscribe to this application?\n",
            "Proposed Fix                                   Subscription page\n",
            "Name: 5, dtype: object\n",
            "Incident ID                                                        INC011\n",
            "Incident Description               What devices the application supports?\n",
            "Proposed Fix            Environment details: The application is suppor...\n",
            "Name: 10, dtype: object\n",
            "Incident ID                                                        INC014\n",
            "Incident Description    The application is not loading, though I have ...\n",
            "Proposed Fix                                            Troubleshoot page\n",
            "Name: 13, dtype: object\n",
            "Query: will this application work on mac?\n",
            "\t {'Incident Description': 'How can I subscribe to this application?'}\n",
            "\t {'Incident Description': 'What devices the application supports?'}\n",
            "\t {'Incident Description': 'The application is not loading, though I have internet connection.'}\n",
            "Please enter your query :\n",
            "application is offline?\n",
            "[[0.9485889 1.1574032 1.3737481]]\n",
            "[[13  5  6]]\n",
            "0.9485889077186584\n",
            "1.1574032306671143\n",
            "1.3737480640411377\n",
            "13\n",
            "\n",
            "\n",
            "5\n",
            "\n",
            "\n",
            "6\n",
            "\n",
            "\n",
            "Incident ID                                               INC006\n",
            "Incident Description    How can I subscribe to this application?\n",
            "Proposed Fix                                   Subscription page\n",
            "Name: 5, dtype: object\n",
            "Incident ID                                     INC007\n",
            "Incident Description    How To renew the subscription?\n",
            "Proposed Fix                 Subscription renewal page\n",
            "Name: 6, dtype: object\n",
            "Incident ID                                                        INC014\n",
            "Incident Description    The application is not loading, though I have ...\n",
            "Proposed Fix                                            Troubleshoot page\n",
            "Name: 13, dtype: object\n",
            "Query: application is offline?\n",
            "\t {'Incident Description': 'How can I subscribe to this application?'}\n",
            "\t {'Incident Description': 'How To renew the subscription?'}\n",
            "\t {'Incident Description': 'The application is not loading, though I have internet connection.'}\n",
            "Please enter your query :\n",
            "I dont like this application?\n",
            "[[1.1244576 1.3800833 1.6091108]]\n",
            "[[ 5 13 15]]\n",
            "1.124457597732544\n",
            "1.3800833225250244\n",
            "1.6091108322143555\n",
            "5\n",
            "\n",
            "\n",
            "13\n",
            "\n",
            "\n",
            "15\n",
            "\n",
            "\n",
            "Incident ID                                               INC006\n",
            "Incident Description    How can I subscribe to this application?\n",
            "Proposed Fix                                   Subscription page\n",
            "Name: 5, dtype: object\n",
            "Incident ID                                                        INC014\n",
            "Incident Description    The application is not loading, though I have ...\n",
            "Proposed Fix                                            Troubleshoot page\n",
            "Name: 13, dtype: object\n",
            "Incident ID                              INC016\n",
            "Incident Description      How to revoke access?\n",
            "Proposed Fix            Subcription revoke page\n",
            "Name: 15, dtype: object\n",
            "Query: I dont like this application?\n",
            "\t {'Incident Description': 'How can I subscribe to this application?'}\n",
            "\t {'Incident Description': 'The application is not loading, though I have internet connection.'}\n",
            "\t {'Incident Description': 'How to revoke access?'}\n",
            "Please enter your query :\n",
            "no bananas please\n",
            "[[1.7861714 1.8755298 1.8884783]]\n",
            "[[14  0  1]]\n",
            "1.7861714363098145\n",
            "1.8755297660827637\n",
            "Query: no bananas please\n",
            "\t No data found, please try to rephrase the question.\n",
            "Please enter your query :\n",
            "what is the registerd email?\n",
            "[[0.90738285 1.2919068  1.3195701 ]]\n",
            "[[4 2 5]]\n",
            "0.9073828458786011\n",
            "1.2919068336486816\n",
            "1.3195700645446777\n",
            "4\n",
            "\n",
            "\n",
            "2\n",
            "\n",
            "\n",
            "5\n",
            "\n",
            "\n",
            "Incident ID                           INC003\n",
            "Incident Description    What is my login ID?\n",
            "Proposed Fix                   login ID page\n",
            "Name: 2, dtype: object\n",
            "Incident ID                                                        INC005\n",
            "Incident Description    Where can I check which email I used for subsc...\n",
            "Proposed Fix                                          Email settings page\n",
            "Name: 4, dtype: object\n",
            "Incident ID                                               INC006\n",
            "Incident Description    How can I subscribe to this application?\n",
            "Proposed Fix                                   Subscription page\n",
            "Name: 5, dtype: object\n",
            "Query: what is the registerd email?\n",
            "\t {'Incident Description': 'What is my login ID?'}\n",
            "\t {'Incident Description': 'Where can I check which email I used for subscription'}\n",
            "\t {'Incident Description': 'How can I subscribe to this application?'}\n",
            "Please enter your query :\n",
            "exit\n",
            "Thank you for internacting with me.\n"
          ]
        }
      ],
      "source": [
        "while(1):\n",
        "  print(\"Please enter your query :\")\n",
        "  query = input()\n",
        "  if(query == 'exit'):\n",
        "    print(\"Thank you for internacting with me.\")\n",
        "    break\n",
        "  results=search(query,3,index,model)\n",
        "  #print(type(results))\n",
        "  #print(\"\\n\")\n",
        "  print(\"Query: \"f\"{query}\")\n",
        "  for result in results:\n",
        "    print('\\t',result)"
      ]
    },
    {
      "cell_type": "markdown",
      "metadata": {
        "id": "Ei3lyGFXjbF0"
      },
      "source": [
        "Now partition the index into Voronoi cells\n",
        "\n",
        "when we introduce a new query vector, we first measure its distance between centroids, then restrict our search scope to that centroid’s cell."
      ]
    },
    {
      "cell_type": "code",
      "execution_count": null,
      "metadata": {
        "colab": {
          "base_uri": "https://localhost:8080/"
        },
        "id": "GFvV_zKPjaLa",
        "outputId": "82d17ea7-2d61-4fc3-8624-f6a6bd520d56"
      },
      "outputs": [
        {
          "name": "stdout",
          "output_type": "stream",
          "text": [
            "False\n",
            "True\n",
            "29\n"
          ]
        }
      ],
      "source": [
        "#Create index as a quantizer and feed into partioning\n",
        "nlist = 10  # how many partitions\n",
        "dimention = encoded_data.shape[1]\n",
        "quantizer = faiss.IndexFlatL2(dimention)\n",
        "index = faiss.IndexIVFFlat(quantizer, dimention, nlist)\n",
        "print(index.is_trained)\n",
        "\n",
        "#Train the index\n",
        "index.train(encoded_data)\n",
        "print(index.is_trained)  # check if index is now trained\n",
        "\n",
        "#Add vectors to index\n",
        "index.add(encoded_data)\n",
        "print(index.ntotal)  # number of embeddings indexed\n",
        "\n",
        "faiss.write_index(index, 'fulldoc.index')\n",
        "index = faiss.read_index('fulldoc.index')\n"
      ]
    },
    {
      "cell_type": "code",
      "execution_count": null,
      "metadata": {
        "colab": {
          "base_uri": "https://localhost:8080/"
        },
        "id": "Rd_LpKJGm2y7",
        "outputId": "48b7497e-54ec-479c-9173-7c75551d0de0"
      },
      "outputs": [
        {
          "name": "stdout",
          "output_type": "stream",
          "text": [
            "(1, 384)\n",
            ">>>> Results in Total Time: 0.03233599662780762\n",
            "Ticket ID                                                       INC0001\n",
            "Ticket Description    My teams say it's offline even though I'm onli...\n",
            "Name: 0, dtype: object\n",
            "Ticket ID                                                       INC0002\n",
            "Ticket Description    Microsoft Teams status stuck on ‘offline’ – ho...\n",
            "Name: 1, dtype: object\n",
            "\n",
            "\n",
            "\t {'Ticket Description': \"My teams say it's offline even though I'm online, can anyone help me?\"}\n",
            "\t {'Ticket Description': 'Microsoft Teams status stuck on ‘offline’ – how to fix'}\n"
          ]
        }
      ],
      "source": [
        "# Query the index\n",
        "\n",
        "query=\"Teams is not loading?\"\n",
        "results=search(query,2,index,model)\n",
        "\n",
        "print(\"\\n\")\n",
        "for result in results:\n",
        "    print('\\t',result)"
      ]
    },
    {
      "cell_type": "markdown",
      "metadata": {
        "id": "1nP-giWH_21L"
      },
      "source": [
        "My code starts from here!!"
      ]
    },
    {
      "cell_type": "code",
      "execution_count": null,
      "metadata": {
        "id": "834cmvCQ4397"
      },
      "outputs": [],
      "source": [
        "# Import packages\n",
        "import numpy as np # linear algebra\n",
        "import pandas as pd # data processing, CSV file I/O (e.g. pd.read_csv)\n",
        "import os, warnings\n",
        "warnings.simplefilter('ignore')\n",
        "import time\n",
        "from sentence_transformers import SentenceTransformer\n",
        "import csv\n",
        "import os\n",
        "# FAISS library (Facebook AI Similarity Search)\n",
        "import faiss\n",
        "\n",
        "# Torch library\n",
        "import torch"
      ]
    },
    {
      "cell_type": "code",
      "execution_count": null,
      "metadata": {
        "id": "5NKCX7iO-FRl"
      },
      "outputs": [],
      "source": []
    },
    {
      "cell_type": "code",
      "execution_count": null,
      "metadata": {
        "id": "4AvC3PJpAHbO"
      },
      "outputs": [],
      "source": [
        "def write_data(file_name):\n",
        "  import os.path\n",
        "  row_num=0\n",
        "  #df = pd.read_csv(file_name, header=None,encoding='cp1252')\n",
        "  with open (file_name, 'r',encoding='cp1252') as file:\n",
        "    csvreader=csv.reader(file)\n",
        "    for row in csvreader:\n",
        "      if(row_num == 0):\n",
        "        header = row\n",
        "        row_num = row_num + 1\n",
        "        continue\n",
        "      folder_name= \"/content/data/\"f\"{row[9]}\"\n",
        "      print(folder_name)\n",
        "      if(os.path.isdir(folder_name) == False):\n",
        "        os.mkdir(f\"{folder_name}\")\n",
        "      componentfile_name = row[11]\n",
        "      filepath = f\"{folder_name}/\"f\"{componentfile_name}.csv\"\n",
        "      if(os.path.isfile(filepath) == False):\n",
        "        with open(filepath, \"w\", encoding='cp1252')as file:\n",
        "          writer=csv.writer(file)\n",
        "          writer.writerow(header)\n",
        "      with open(filepath, 'a',encoding='cp1252')as file:\n",
        "        writer=csv.writer(file)\n",
        "        writer.writerow(row)\n",
        "write_data(\"/content/SAPDUMMYDATA.csv\")"
      ]
    },
    {
      "cell_type": "code",
      "execution_count": null,
      "metadata": {
        "id": "Th-8Q8lFBdx1"
      },
      "outputs": [],
      "source": [
        "#create list from directory\n",
        "def getlist_dir(folder_path):\n",
        "  import os\n",
        "  #dir_path = folder_path\n",
        "  dirlst = []\n",
        "# Iterate directory\n",
        "  for dir_path in os.listdir(folder_path):\n",
        "    # check if current file_path is a file\n",
        "      if os.path.isdir(os.path.join(folder_path, dir_path)):\n",
        "        # add filename to list\n",
        "          dirlst.append(dir_path)\n",
        "  return dirlst"
      ]
    },
    {
      "cell_type": "code",
      "execution_count": null,
      "metadata": {
        "id": "uOEs0RjnEDJb"
      },
      "outputs": [],
      "source": [
        "#create list from directory\n",
        "def getlist_file(folder_path):\n",
        "  print(folder_path)\n",
        "  filelst = []\n",
        "# Iterate directory\n",
        "  for file_path in os.listdir(folder_path):\n",
        "    # check if current file_path is a file\n",
        "      if os.path.isfile(os.path.join(folder_path, file_path)):\n",
        "        # add filename to list\n",
        "          filelst.append(file_path)\n",
        "  return filelst"
      ]
    },
    {
      "cell_type": "code",
      "execution_count": null,
      "metadata": {
        "id": "wvfXoppcUKvZ"
      },
      "outputs": [],
      "source": [
        "# load a pretrained model\n",
        "model = SentenceTransformer('multi-qa-MiniLM-L6-cos-v1')"
      ]
    },
    {
      "cell_type": "code",
      "execution_count": null,
      "metadata": {
        "id": "d8fGrlIxAp3f"
      },
      "outputs": [],
      "source": [
        "#Load data\n",
        "dir_path = \"/content/data\"\n",
        "filelst=[]\n",
        "prdlst=[]\n",
        "dflist=[]\n",
        "datalist=[]\n",
        "prdlst = getlist_dir(dir_path)\n",
        "#print(prdlst)\n",
        "for prd in prdlst:\n",
        "  filelst = getlist_file(f\"{dir_path}/\"f\"{prd}/\")\n",
        "  #print(filelst)\n",
        "  for file in filelst:\n",
        "    #dfname = \"df\"f\"{file[:-4]}\"\n",
        "    #print(dfname)\n",
        "    file_path = f\"{dir_path}/\"f\"{prd}/\"f\"{file}\"\n",
        "    #print(file_path)\n",
        "    #dfname = pd.read_csv(file_path,encoding='cp1252')\n",
        "    df = pd.read_csv(file_path,encoding='cp1252')\n",
        "    #print(df)\n",
        "    # drop NULLs & reset index\n",
        "    #df.dropna(inplace=True)\n",
        "    #df.reset_index(drop=True,inplace=True)\n",
        "    col = ['Incident date', 'Date of Resolution','Priority', 'SLA in days','SLA Voilated','Status']\n",
        "    df=df.drop(col,axis = 1)\n",
        "    #print(df)\n",
        "  df = pd.DataFrame(df, columns=['Ticket Description', 'Ticket ID'])\n",
        "  print(df)\n",
        "  data = df.values.tolist()\n",
        "\n",
        "   # Create embedding\n",
        "    #data_embds=model.encode(data)\n",
        "  data_embds=model.encode(data)\n",
        "  print(data_embds)\n",
        "  index = faiss.IndexFlatL2(data_embds.shape[1])\n",
        "  index.add(data_embds)\n",
        "  faiss.write_index(index, f\"{file[:-4]}\"'_index_data')\n",
        "  index = faiss.read_index(f\"{file[:-4]}\"'_index_data')\n"
      ]
    },
    {
      "cell_type": "code",
      "execution_count": null,
      "metadata": {
        "id": "Y8gCbIMe5d9i"
      },
      "outputs": [],
      "source": [
        "#Load single file\n",
        "file=\"/content/SAPDUMMYDATA.csv\"\n",
        "df = pd.read_csv(file,encoding='cp1252')\n",
        "# drop NULLs & reset index\n",
        "df.dropna(inplace=True)\n",
        "df.reset_index(drop=True,inplace=True)\n",
        "print(df.head)\n"
      ]
    },
    {
      "cell_type": "code",
      "execution_count": null,
      "metadata": {
        "id": "q7Cw0Qv38S2R"
      },
      "outputs": [],
      "source": [
        "# load a pretrained model\n",
        "model = SentenceTransformer('multi-qa-MiniLM-L6-cos-v1')"
      ]
    },
    {
      "cell_type": "code",
      "execution_count": null,
      "metadata": {
        "id": "oJA0H-WW8b9T"
      },
      "outputs": [],
      "source": [
        "# pre-process text data\n",
        "data = df['Ticket Description'].tolist()\n",
        "# embed patient findings\n",
        "data_embds=model.encode(data)\n",
        "print(data_embds)"
      ]
    },
    {
      "cell_type": "code",
      "execution_count": null,
      "metadata": {
        "id": "XSquKe8L9D3m"
      },
      "outputs": [],
      "source": [
        "# Create an index using FAISS\n",
        "index = faiss.IndexFlatL2(data_embds.shape[1])\n",
        "index.add(data_embds)\n",
        "faiss.write_index(index, 'index_data')\n",
        "index = faiss.read_index('index_data')"
      ]
    },
    {
      "cell_type": "code",
      "execution_count": null,
      "metadata": {
        "colab": {
          "base_uri": "https://localhost:8080/"
        },
        "id": "x8--QSTH9Wf_",
        "outputId": "3e1e5d63-f8a0-4b26-cf9d-0a411c4fb996"
      },
      "outputs": [
        {
          "name": "stdout",
          "output_type": "stream",
          "text": [
            "<class 'tuple'>\n",
            "\n",
            "\n",
            "======================\n",
            "\n",
            "\n",
            "Query: Which browsers are supported? - SAP for Me \n",
            "\n",
            "Top 5 most similar sentences :\n",
            "\n",
            "1). ['Outlook shows  \"Processing,\" stopped working, not responding', 'INC0004']\n",
            "2). ['Outlook shows  \"Processing,\" stopped working, not responding', 'INC0004']\n",
            "3). ['Outlook shows  \"Processing,\" stopped working, not responding', 'INC0004']\n"
          ]
        }
      ],
      "source": [
        "# Perform semantic search\n",
        "def search(query):\n",
        "    query_vector = model.encode([query])\n",
        "    k = 3\n",
        "    #top_k = index.search(query_vector, k)\n",
        "    #index = faiss.read_index('office_index_data')\n",
        "    top_k = index.search(query_vector, k)\n",
        "    print(type(top_k))\n",
        "    return [data[_id] for _id in top_k[1].tolist()[0]]\n",
        "   # results\n",
        "qry = 'Which browsers are supported? - SAP for Me '\n",
        "results = search(qry)\n",
        "print(\"\\n\\n======================\\n\\n\")\n",
        "print(\"Query:\", qry)\n",
        "print(\"\\nTop 5 most similar sentences :\\n\")\n",
        "for r in enumerate(results, start=1):\n",
        "    print(f\"{r[0]}). {r[1]}\")"
      ]
    }
  ],
  "metadata": {
    "colab": {
      "provenance": [],
      "toc_visible": true,
      "authorship_tag": "ABX9TyOjzkdp7YWkF4uNllDe1lBh",
      "include_colab_link": true
    },
    "kernelspec": {
      "display_name": "Python 3",
      "name": "python3"
    },
    "language_info": {
      "name": "python"
    }
  },
  "nbformat": 4,
  "nbformat_minor": 0
}