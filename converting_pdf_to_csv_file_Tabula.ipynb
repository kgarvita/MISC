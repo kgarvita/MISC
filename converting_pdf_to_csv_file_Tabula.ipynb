{
  "nbformat": 4,
  "nbformat_minor": 0,
  "metadata": {
    "colab": {
      "provenance": [],
      "authorship_tag": "ABX9TyNIP7qscSBoooWiKO0CpBrE",
      "include_colab_link": true
    },
    "kernelspec": {
      "name": "python3",
      "display_name": "Python 3"
    },
    "language_info": {
      "name": "python"
    }
  },
  "cells": [
    {
      "cell_type": "markdown",
      "metadata": {
        "id": "view-in-github",
        "colab_type": "text"
      },
      "source": [
        "<a href=\"https://colab.research.google.com/github/kgarvita/MISC/blob/main/converting_pdf_to_csv_file_Tabula.ipynb\" target=\"_parent\"><img src=\"https://colab.research.google.com/assets/colab-badge.svg\" alt=\"Open In Colab\"/></a>"
      ]
    },
    {
      "cell_type": "code",
      "execution_count": null,
      "metadata": {
        "id": "x7k4LoxJHhWP"
      },
      "outputs": [],
      "source": []
    },
    {
      "cell_type": "markdown",
      "source": [
        "#Reading data from multiple sources"
      ],
      "metadata": {
        "id": "vctSyQVBHkfu"
      }
    },
    {
      "cell_type": "markdown",
      "source": [
        "## pdf to csv"
      ],
      "metadata": {
        "id": "qFLdAM5CHq53"
      }
    },
    {
      "cell_type": "code",
      "source": [
        "!pip3 install tabula-py"
      ],
      "metadata": {
        "id": "1uU0fAOfIQc0"
      },
      "execution_count": null,
      "outputs": []
    },
    {
      "cell_type": "code",
      "source": [
        "import tabula\n",
        "df = tabula.read_pdf(\"/content/table.pdf\",pages=\"all\")\n",
        "# convert PDF into CSV\n",
        "tabula.convert_into(\"/content/table.pdf\", \"data.csv\", output_format=\"csv\", pages=\"all\")\n",
        "print(df)\n"
      ],
      "metadata": {
        "id": "m-Xnqae1Ht7g"
      },
      "execution_count": null,
      "outputs": []
    }
  ]
}